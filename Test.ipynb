{
 "nbformat": 4,
 "nbformat_minor": 2,
 "metadata": {
  "language_info": {
   "name": "python",
   "codemirror_mode": {
    "name": "ipython",
    "version": 3
   },
   "version": "3.6.9-final"
  },
  "orig_nbformat": 2,
  "file_extension": ".py",
  "mimetype": "text/x-python",
  "name": "python",
  "npconvert_exporter": "python",
  "pygments_lexer": "ipython3",
  "version": 3,
  "kernelspec": {
   "name": "python36964bit2ec1e9c1a2544dc9b47df98353f21a26",
   "display_name": "Python 3.6.9 64-bit"
  }
 },
 "cells": [
  {
   "cell_type": "code",
   "execution_count": 2,
   "metadata": {},
   "outputs": [],
   "source": [
    "import os\n",
    "import sys\n",
    "\n",
    "# enable importing local modules from utils\n",
    "sys.path.insert(0, os.path.abspath('./utils'))"
   ]
  },
  {
   "cell_type": "markdown",
   "execution_count": null,
   "metadata": {},
   "outputs": [],
   "source": [
    "# Check that elasticsearch is up and running (run `docker-compose up` before this if you haven't):"
   ]
  },
  {
   "cell_type": "code",
   "execution_count": 3,
   "metadata": {},
   "outputs": [
    {
     "data": {
      "text/plain": "{'count': 4,\n '_shards': {'total': 3, 'successful': 3, 'skipped': 0, 'failed': 0}}"
     },
     "execution_count": 3,
     "metadata": {},
     "output_type": "execute_result"
    }
   ],
   "source": [
    "from elasticsearch import Elasticsearch\n",
    "\n",
    "client = Elasticsearch()\n",
    "client.count()\n"
   ]
  },
  {
   "cell_type": "markdown",
   "execution_count": null,
   "metadata": {},
   "outputs": [],
   "source": [
    "# Check that mongodb is up"
   ]
  },
  {
   "cell_type": "code",
   "execution_count": 1,
   "metadata": {},
   "outputs": [
    {
     "data": {
      "text/plain": "{'version': '4.2.2',\n 'gitVersion': 'a0bbbff6ada159e19298d37946ac8dc4b497eadf',\n 'modules': [],\n 'allocator': 'tcmalloc',\n 'javascriptEngine': 'mozjs',\n 'sysInfo': 'deprecated',\n 'versionArray': [4, 2, 2, 0],\n 'openssl': {'running': 'OpenSSL 1.1.1  11 Sep 2018',\n  'compiled': 'OpenSSL 1.1.1  11 Sep 2018'},\n 'buildEnvironment': {'distmod': 'ubuntu1804',\n  'distarch': 'x86_64',\n  'cc': '/opt/mongodbtoolchain/v3/bin/gcc: gcc (GCC) 8.2.0',\n  'ccflags': '-fno-omit-frame-pointer -fno-strict-aliasing -ggdb -pthread -Wall -Wsign-compare -Wno-unknown-pragmas -Winvalid-pch -Werror -O2 -Wno-unused-local-typedefs -Wno-unused-function -Wno-deprecated-declarations -Wno-unused-const-variable -Wno-unused-but-set-variable -Wno-missing-braces -fstack-protector-strong -fno-builtin-memcmp',\n  'cxx': '/opt/mongodbtoolchain/v3/bin/g++: g++ (GCC) 8.2.0',\n  'cxxflags': '-Woverloaded-virtual -Wno-maybe-uninitialized -fsized-deallocation -std=c++17',\n  'linkflags': '-pthread -Wl,-z,now -rdynamic -Wl,--fatal-warnings -fstack-protector-strong -fuse-ld=gold -Wl,--build-id -Wl,--hash-style=gnu -Wl,-z,noexecstack -Wl,--warn-execstack -Wl,-z,relro',\n  'target_arch': 'x86_64',\n  'target_os': 'linux'},\n 'bits': 64,\n 'debug': False,\n 'maxBsonObjectSize': 16777216,\n 'storageEngines': ['biggie', 'devnull', 'ephemeralForTest', 'wiredTiger'],\n 'ok': 1.0,\n '$clusterTime': {'clusterTime': Timestamp(1578739674, 1),\n  'signature': {'hash': b'\\x00\\x00\\x00\\x00\\x00\\x00\\x00\\x00\\x00\\x00\\x00\\x00\\x00\\x00\\x00\\x00\\x00\\x00\\x00\\x00',\n   'keyId': 0}},\n 'operationTime': Timestamp(1578739674, 1)}"
     },
     "execution_count": 1,
     "metadata": {},
     "output_type": "execute_result"
    }
   ],
   "source": [
    "import pymongo\n",
    "\n",
    "client = pymongo.MongoClient()\n",
    "\n",
    "client.server_info()"
   ]
  },
  {
   "cell_type": "markdown",
   "execution_count": null,
   "metadata": {},
   "outputs": [],
   "source": [
    "# Create mongo database called `bookworm`"
   ]
  },
  {
   "cell_type": "code",
   "execution_count": 8,
   "metadata": {},
   "outputs": [],
   "source": [
    "bookworm_db = client['bookworm']"
   ]
  },
  {
   "cell_type": "markdown",
   "execution_count": null,
   "metadata": {},
   "outputs": [],
   "source": [
    "# Create a mongo collection called `books`"
   ]
  },
  {
   "cell_type": "code",
   "execution_count": 9,
   "metadata": {},
   "outputs": [],
   "source": [
    "books_collection = bookworm_db['books']"
   ]
  },
  {
   "cell_type": "markdown",
   "execution_count": null,
   "metadata": {},
   "outputs": [],
   "source": [
    "# Read book files and prep data for mongo insertion"
   ]
  },
  {
   "cell_type": "code",
   "execution_count": 26,
   "metadata": {},
   "outputs": [
    {
     "name": "stdout",
     "output_type": "stream",
     "text": "https://www.gutenberg.org/files/1342/1342-0.txt\nhttps://www.gutenberg.org/files/11/11-0.txt\nhttps://www.gutenberg.org/ebooks/84.txt.utf-8\nhttps://www.gutenberg.org/ebooks/844.txt.utf-8\nhttps://www.gutenberg.org/files/41/41-0.txt\nhttps://www.gutenberg.org/ebooks/2542.txt.utf-8\nhttps://www.gutenberg.org/ebooks/1661.txt.utf-8\nhttps://www.gutenberg.org/ebooks/345.txt.utf-8\nhttps://www.gutenberg.org/files/76/76-0.txt\nhttps://www.gutenberg.org/ebooks/5200.txt.utf-8\nhttps://www.gutenberg.org/ebooks/1952.txt.utf-8\nhttps://www.gutenberg.org/files/98/98-0.txt\nhttps://www.gutenberg.org/ebooks/1232.txt.utf-8\nhttps://www.gutenberg.org/files/2591/2591-0.txt\nhttps://www.gutenberg.org/files/2701/2701-0.txt\nhttps://www.gutenberg.org/files/74/74-0.txt\nhttps://www.gutenberg.org/ebooks/3207.txt.utf-8\nhttps://www.gutenberg.org/ebooks/16328.txt.utf-8\nhttps://www.gutenberg.org/files/4300/4300-0.txt\nhttps://www.gutenberg.org/ebooks/174.txt.utf-8\nhttps://www.gutenberg.org/ebooks/10897.txt.utf-8\nhttps://www.gutenberg.org/files/1400/1400-0.txt\nhttps://www.gutenberg.org/files/2600/2600-0.txt\nhttps://www.gutenberg.org/files/16/16-0.txt\nhttps://www.gutenberg.org/ebooks/46.txt.utf-8\nhttps://www.gutenberg.org/ebooks/6130.txt.utf-8\nhttps://www.gutenberg.org/ebooks/27827.txt.utf-8\nhttps://www.gutenberg.org/ebooks/23.txt.utf-8\nhttps://www.gutenberg.org/ebooks/20203.txt.utf-8\nhttps://www.gutenberg.org/ebooks/1260.txt.utf-8\nhttps://www.gutenberg.org/ebooks/1497.txt.utf-8\nhttps://www.gutenberg.org/ebooks/147.txt.utf-8\nhttps://www.gutenberg.org/files/158/158-0.txt\nhttps://www.gutenberg.org/files/2814/2814-0.txt\nhttps://www.gutenberg.org/files/219/219-0.txt\nhttps://www.gutenberg.org/ebooks/1080.txt.utf-8\nhttps://www.gutenberg.org/ebooks/120.txt.utf-8\nhttps://www.gutenberg.org/files/2852/2852-0.txt\nhttps://www.gutenberg.org/ebooks/2500.txt.utf-8\nhttps://www.gutenberg.org/files/135/135-0.txt\nhttps://www.gutenberg.org/ebooks/768.txt.utf-8\nhttps://www.gutenberg.org/ebooks/33.txt.utf-8\nhttps://www.gutenberg.org/files/209/209-0.txt\nhttps://www.gutenberg.org/ebooks/408.txt.utf-8\nhttps://www.gutenberg.org/files/1184/1184-0.txt\nhttps://www.gutenberg.org/files/205/205-0.txt\nhttps://www.gutenberg.org/ebooks/851.txt.utf-8\nhttps://www.gutenberg.org/ebooks/16643.txt.utf-8\nhttps://www.gutenberg.org/files/3600/3600-0.txt\nhttps://www.gutenberg.org/ebooks/161.txt.utf-8\nhttps://www.gutenberg.org/files/2554/2554-0.txt\nhttps://www.gutenberg.org/files/244/244-0.txt\nhttps://www.gutenberg.org/ebooks/1322.txt.utf-8\nhttps://www.gutenberg.org/files/2148/2148-0.txt\nhttps://www.gutenberg.org/files/160/160-0.txt\nhttps://www.gutenberg.org/ebooks/42.txt.utf-8\nhttps://www.gutenberg.org/ebooks/55.txt.utf-8\nhttps://www.gutenberg.org/ebooks/779.txt.utf-8\nhttps://www.gutenberg.org/files/829/829-0.txt\nhttps://www.gutenberg.org/ebooks/35.txt.utf-8\nhttps://www.gutenberg.org/ebooks/15399.txt.utf-8\nhttps://www.gutenberg.org/ebooks/7370.txt.utf-8\nhttps://www.gutenberg.org/ebooks/3691.txt.utf-8\nhttps://www.gutenberg.org/ebooks/1404.txt.utf-8\nhttps://www.gutenberg.org/ebooks/4363.txt.utf-8\nhttps://www.gutenberg.org/ebooks/36.txt.utf-8\nhttps://www.gutenberg.org/ebooks/19942.txt.utf-8\nhttps://www.gutenberg.org/ebooks/1112.txt.utf-8\nhttps://www.gutenberg.org/ebooks/10.txt.utf-8\nhttps://www.gutenberg.org/files/45/45-0.txt\nhttps://www.gutenberg.org/ebooks/34901.txt.utf-8\nhttps://www.gutenberg.org/files/28054/28054-0.txt\nhttps://www.gutenberg.org/ebooks/10007.txt.utf-8\nhttps://www.gutenberg.org/files/2147/2147-0.txt\nhttps://www.gutenberg.org/files/4517/4517-0.txt\nhttps://www.gutenberg.org/ebooks/3296.txt.utf-8\nhttps://www.gutenberg.org/ebooks/1251.txt.utf-8\nhttps://www.gutenberg.org/files/1399/1399-0.txt\nhttps://www.gutenberg.org/ebooks/730.txt.utf-8\nhttps://www.gutenberg.org/files/236/236-0.txt\nhttps://www.gutenberg.org/ebooks/996.txt.utf-8\nhttps://www.gutenberg.org/ebooks/375.txt.utf-8\nhttps://www.gutenberg.org/ebooks/2680.txt.utf-8\nhttps://www.gutenberg.org/ebooks/25305.txt.utf-8\nhttps://www.gutenberg.org/ebooks/815.txt.utf-8\nhttps://www.gutenberg.org/files/786/786-0.txt\nhttps://www.gutenberg.org/ebooks/61.txt.utf-8\nhttps://www.gutenberg.org/files/12/12-0.txt\nhttps://www.gutenberg.org/files/203/203-0.txt\nhttps://www.gutenberg.org/ebooks/3825.txt.utf-8\nhttps://www.gutenberg.org/ebooks/1727.txt.utf-8\nhttps://www.gutenberg.org/files/1998/1998-0.txt\nhttps://www.gutenberg.org/ebooks/514.txt.utf-8\nhttps://www.gutenberg.org/files/140/140-0.txt\nhttps://www.gutenberg.org/files/368/368-0.txt\nhttps://www.gutenberg.org/ebooks/103.txt.utf-8\nhttps://www.gutenberg.org/ebooks/1228.txt.utf-8\nhttp://www.gutenberg.org/files/1268/1268-0.txt\nhttp://www.gutenberg.org/ebooks/145.txt.utf-8\nhttp://www.gutenberg.org/files/56248/56248-0.txt\n"
    }
   ],
   "source": [
    "import os\n",
    "import requests\n",
    "import pandas as pd\n",
    "import re\n",
    "\n",
    "\n",
    "URLS = pd.read_csv(os.path.join(\"data\", \"book_urls.csv\"))\n",
    "OUTPUT_PATH = os.path.join(\"data\", \"books\")\n",
    "\n",
    "\n",
    "def fetch_books(urls=URLS, output_path=OUTPUT_PATH):\n",
    "    os.makedirs(output_path, exist_ok=True)\n",
    "    for url in URLS['url']:\n",
    "        print(url)\n",
    "        r = requests.get(url, allow_redirects=True)\n",
    "        filename = url.rsplit('/', 1)[1]\n",
    "        open(os.path.join(output_path, filename), 'wb').write(r.content)\n",
    "\n",
    "fetch_books()\n"
   ]
  },
  {
   "cell_type": "markdown",
   "execution_count": null,
   "metadata": {},
   "outputs": [],
   "source": [
    "# Insert books into our mongo `books` collection"
   ]
  },
  {
   "cell_type": "code",
   "execution_count": null,
   "metadata": {},
   "outputs": [],
   "source": [
    "# books_collection.bulk_write([])"
   ]
  }
 ]
}