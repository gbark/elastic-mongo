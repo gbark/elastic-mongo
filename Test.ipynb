{
 "nbformat": 4,
 "nbformat_minor": 2,
 "metadata": {
  "language_info": {
   "name": "python",
   "codemirror_mode": {
    "name": "ipython",
    "version": 3
   },
   "version": "3.6.9-final"
  },
  "orig_nbformat": 2,
  "file_extension": ".py",
  "mimetype": "text/x-python",
  "name": "python",
  "npconvert_exporter": "python",
  "pygments_lexer": "ipython3",
  "version": 3,
  "kernelspec": {
   "name": "python36964bit2ec1e9c1a2544dc9b47df98353f21a26",
   "display_name": "Python 3.6.9 64-bit"
  }
 },
 "cells": [
  {
   "cell_type": "code",
   "execution_count": 1,
   "metadata": {},
   "outputs": [],
   "source": [
    "import os\n",
    "import sys\n",
    "\n",
    "# enable importing local modules from utils\n",
    "sys.path.insert(0, os.path.abspath('./utils'))"
   ]
  },
  {
   "cell_type": "markdown",
   "execution_count": null,
   "metadata": {},
   "outputs": [],
   "source": [
    "# Check that elasticsearch is up and running (run `docker-compose up` before this if you haven't):"
   ]
  },
  {
   "cell_type": "code",
   "execution_count": 32,
   "metadata": {},
   "outputs": [
    {
     "data": {
      "text/plain": "{'count': 3,\n '_shards': {'total': 3, 'successful': 3, 'skipped': 0, 'failed': 0}}"
     },
     "execution_count": 32,
     "metadata": {},
     "output_type": "execute_result"
    }
   ],
   "source": [
    "from elasticsearch import Elasticsearch\n",
    "\n",
    "client = Elasticsearch()\n",
    "client.count()\n"
   ]
  },
  {
   "cell_type": "markdown",
   "execution_count": null,
   "metadata": {},
   "outputs": [],
   "source": [
    "# Check that mongodb is up"
   ]
  },
  {
   "cell_type": "code",
   "execution_count": 33,
   "metadata": {},
   "outputs": [
    {
     "data": {
      "text/plain": "{'version': '4.2.2',\n 'gitVersion': 'a0bbbff6ada159e19298d37946ac8dc4b497eadf',\n 'modules': [],\n 'allocator': 'tcmalloc',\n 'javascriptEngine': 'mozjs',\n 'sysInfo': 'deprecated',\n 'versionArray': [4, 2, 2, 0],\n 'openssl': {'running': 'OpenSSL 1.1.1  11 Sep 2018',\n  'compiled': 'OpenSSL 1.1.1  11 Sep 2018'},\n 'buildEnvironment': {'distmod': 'ubuntu1804',\n  'distarch': 'x86_64',\n  'cc': '/opt/mongodbtoolchain/v3/bin/gcc: gcc (GCC) 8.2.0',\n  'ccflags': '-fno-omit-frame-pointer -fno-strict-aliasing -ggdb -pthread -Wall -Wsign-compare -Wno-unknown-pragmas -Winvalid-pch -Werror -O2 -Wno-unused-local-typedefs -Wno-unused-function -Wno-deprecated-declarations -Wno-unused-const-variable -Wno-unused-but-set-variable -Wno-missing-braces -fstack-protector-strong -fno-builtin-memcmp',\n  'cxx': '/opt/mongodbtoolchain/v3/bin/g++: g++ (GCC) 8.2.0',\n  'cxxflags': '-Woverloaded-virtual -Wno-maybe-uninitialized -fsized-deallocation -std=c++17',\n  'linkflags': '-pthread -Wl,-z,now -rdynamic -Wl,--fatal-warnings -fstack-protector-strong -fuse-ld=gold -Wl,--build-id -Wl,--hash-style=gnu -Wl,-z,noexecstack -Wl,--warn-execstack -Wl,-z,relro',\n  'target_arch': 'x86_64',\n  'target_os': 'linux'},\n 'bits': 64,\n 'debug': False,\n 'maxBsonObjectSize': 16777216,\n 'storageEngines': ['biggie', 'devnull', 'ephemeralForTest', 'wiredTiger'],\n 'ok': 1.0,\n '$clusterTime': {'clusterTime': Timestamp(1578861896, 1),\n  'signature': {'hash': b'\\x00\\x00\\x00\\x00\\x00\\x00\\x00\\x00\\x00\\x00\\x00\\x00\\x00\\x00\\x00\\x00\\x00\\x00\\x00\\x00',\n   'keyId': 0}},\n 'operationTime': Timestamp(1578861896, 1)}"
     },
     "execution_count": 33,
     "metadata": {},
     "output_type": "execute_result"
    }
   ],
   "source": [
    "import pymongo\n",
    "\n",
    "client = pymongo.MongoClient()\n",
    "\n",
    "client.server_info()"
   ]
  },
  {
   "cell_type": "markdown",
   "execution_count": null,
   "metadata": {},
   "outputs": [],
   "source": [
    "# Fetch book files and prep data for mongo insertion"
   ]
  },
  {
   "cell_type": "code",
   "execution_count": 36,
   "metadata": {},
   "outputs": [
    {
     "name": "stdout",
     "output_type": "stream",
     "text": "https://www.gutenberg.org/files/1342/1342-0.txt\nhttps://www.gutenberg.org/files/11/11-0.txt\nhttps://www.gutenberg.org/ebooks/84.txt.utf-8\nParsed Pride and Prejudice by Jane Austen\nParsed Alice’s Adventures in Wonderland by Lewis Carroll\nParsed Frankenstein by Mary Wollstonecraft (Godwin) Shelley\nLength of parsed books: 8948\n"
    }
   ],
   "source": [
    "import os\n",
    "import requests\n",
    "import pandas as pd\n",
    "import re\n",
    "from nltk import sent_tokenize\n",
    "\n",
    "\n",
    "URLS = pd.read_csv(os.path.join(\"data\", \"book_urls.csv\"))\n",
    "OUTPUT_PATH = os.path.join(\"data\", \"books\")\n",
    "\n",
    "\n",
    "def fetch_books(urls=URLS, output_path=OUTPUT_PATH):\n",
    "    os.makedirs(output_path, exist_ok=True)\n",
    "\n",
    "    books = []\n",
    "\n",
    "    for url in URLS['url'][0:3]:\n",
    "        print(url)\n",
    "        r = requests.get(url, allow_redirects=True)\n",
    "        r.encoding = 'utf-8'\n",
    "        books.append(r.text.strip())\n",
    "\n",
    "    return books\n",
    "\n",
    "def parse_books(raw_books):\n",
    "    parsed_books = []\n",
    "\n",
    "    for raw_book in raw_books:\n",
    "        titleSearch = re.search(r\"^Title:\\s(.+)$\", raw_book, flags=re.MULTILINE)\n",
    "        authorSearch = re.search(r\"^Author:\\s(.+)$\", raw_book, flags=re.MULTILINE)\n",
    "\n",
    "        startOfBookSearch = re.search(r\"\\*\\*\\* START OF (THIS|THE) PROJECT GUTENBERG EBOOK .+ \\*\\*\\*\", raw_book)\n",
    "        endOfBookSearch = re.search(r\"\\*\\*\\* END OF (THIS|THE) PROJECT GUTENBERG EBOOK .+ \\*\\*\\*\", raw_book)\n",
    "\n",
    "        if titleSearch and authorSearch and startOfBookSearch and endOfBookSearch:\n",
    "            title = titleSearch.group(1).strip()\n",
    "            author = authorSearch.group(1).strip()\n",
    "            full_text = raw_book[startOfBookSearch.end():endOfBookSearch.start()]\n",
    "            # remove line breaks\n",
    "            full_text = re.sub(r\"\\r\\n\",\" \", full_text)\n",
    "            # remove _ which are representing italics\n",
    "            full_text = re.sub(r\"_\", \"\", full_text)\n",
    "\n",
    "            sentences = sent_tokenize(full_text)\n",
    "\n",
    "            print(\"Parsed \" + title + \" by \" + author)\n",
    "\n",
    "            for i, sentence in enumerate(sentences):\n",
    "                parsed_books.append({ \n",
    "                    'title': title, \n",
    "                    'location': i, \n",
    "                    # this will remove any duplicate spaces\n",
    "                    'text': \" \".join(sentence.split()),\n",
    "                    'author': author })\n",
    "        else:\n",
    "            print(\"Failed to parse book\")\n",
    "\n",
    "    return parsed_books\n",
    "\n",
    "raw_books = fetch_books()\n",
    "parsed_books = parse_books(raw_books)\n",
    "\n",
    "print('Length of parsed books: ' + repr(len(parsed_books)))\n"
   ]
  },
  {
   "cell_type": "markdown",
   "execution_count": null,
   "metadata": {},
   "outputs": [],
   "source": [
    "# Insert books into our mongo `books` collection"
   ]
  },
  {
   "cell_type": "code",
   "execution_count": 44,
   "metadata": {},
   "outputs": [
    {
     "data": {
      "text/plain": "<pymongo.results.InsertManyResult at 0x1a2333b308>"
     },
     "execution_count": 44,
     "metadata": {},
     "output_type": "execute_result"
    }
   ],
   "source": [
    "\n",
    "bookworm_db = client['bookworm']\n",
    "books_collection = bookworm_db['books']\n",
    "\n",
    "books_collection.insert_many(parsed_books)\n",
    "\n",
    "\n"
   ]
  },
  {
   "cell_type": "code",
   "execution_count": 28,
   "metadata": {},
   "outputs": [
    {
     "data": {
      "text/plain": "'“Why, my dear, you must know, Mrs. Long says that Netherfield is       taken by a young man of large fortune from the north of England;       that he came down on Monday in a chaise and four to see the       place, and was so much delighted with it, that he agreed with Mr.       Morris immediately; that he is to take possession before       Michaelmas, and some of his servants are to be in the house by       the end of next week.”        “What is his name?”        “Bingley.”        “Is he married or single?”        “Oh!'"
     },
     "execution_count": 28,
     "metadata": {},
     "output_type": "execute_result"
    }
   ],
   "source": [
    "test = \"“Why, my dear, you must know, Mrs. Long says that Netherfield is\\r\\n      taken by a young man of large fortune from the north of England;\\r\\n      that he came down on Monday in a chaise and four to see the\\r\\n      place, and was so much delighted with it, that he agreed with Mr.\\r\\n      Morris immediately; that he is to take possession before\\r\\n      Michaelmas, and some of his servants are to be in the house by\\r\\n      the end of next week.”\\r\\n\\r\\n      “What is his name?”\\r\\n\\r\\n      “Bingley.”\\r\\n\\r\\n      “Is he married or single?”\\r\\n\\r\\n      “Oh!\"\n",
    "\n",
    "re.sub(r\"\\r\\n\",\" \", test)"
   ]
  },
  {
   "cell_type": "code",
   "execution_count": null,
   "metadata": {},
   "outputs": [],
   "source": []
  }
 ]
}